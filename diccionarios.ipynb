{
  "nbformat": 4,
  "nbformat_minor": 0,
  "metadata": {
    "colab": {
      "provenance": [],
      "authorship_tag": "ABX9TyPTtaY70eoo5kbJ+ruEkbA9",
      "include_colab_link": true
    },
    "kernelspec": {
      "name": "python3",
      "display_name": "Python 3"
    },
    "language_info": {
      "name": "python"
    }
  },
  "cells": [
    {
      "cell_type": "markdown",
      "metadata": {
        "id": "view-in-github",
        "colab_type": "text"
      },
      "source": [
        "<a href=\"https://colab.research.google.com/github/duque-maria/diccionarios/blob/main/diccionarios.ipynb\" target=\"_parent\"><img src=\"https://colab.research.google.com/assets/colab-badge.svg\" alt=\"Open In Colab\"/></a>"
      ]
    },
    {
      "cell_type": "markdown",
      "source": [
        "# Diccionarios\n",
        "\n",
        "- Son datos estructurados, es decir, hacen referencia a una colección de datos.\n",
        "- Son una colección desordenada de pares de datos de la forma clave:valor, conocidos como elementos o itens.\n",
        "- Son mutables, por tanto una vez definido un diccionario se le pueden agregar nuevos elementos, modifcar o eliminar algunos de los que ya tiene.\n",
        "- También se les conoce como mapa de hash o arreglos asociativos.\n",
        "- En Python los diccionarios son de tipo dict y se utiliza la siguiente sintáxis para utilizar una variable de este tipo:\n",
        "`nombre_dict = {clave1:valor1, clave2:valor2}`\n",
        "\n",
        "- Cada iten o elemento tiene la forma clave:valor.\n",
        "- En cada iten o elemenyto hay una clave y uno o mas valores. Si se desconoce el valor, se puede llenar con `None`\n",
        "- Los elementos del diccionario se indexan por la clave.\n",
        "- Las claves solo pueden ser datos inmutables.\n",
        "- Las claves no pueden repetirse dentro de un diccionario.\n",
        "\n"
      ],
      "metadata": {
        "id": "rfAVinC3pa66"
      }
    },
    {
      "cell_type": "code",
      "source": [
        "# Diccionario con clave tipo cadena\n",
        "\n",
        "num_meses = {'enero':1, 'febrero':2, 'marzo': 3, 'abril':4, 'mayo':5, 'junio':6, 'julio':7, 'agosto':8, 'septiembre':9, 'octubre':10, 'noviembre':11, 'diciembre':12}\n",
        "print(num_meses)\n",
        "\n",
        "nombre_meses = {1:'enero', 2:'febrero', 3:'marzo', 4:'abril', 5:'mayo', 6:'junio', 7:'julio', 8:'agosto', 9:'septiembre', 10:'octubre', 11:'noviembre', 12:'diciembre'}\n",
        "print(nombre_meses)\n",
        "\n",
        "frutas = {'manzana':34, 'pera':45, 'uva':23}\n",
        "print(frutas)\n",
        "\n",
        "# agregar elementos\n",
        "frutas['cereza'] = 90\n",
        "print(frutas)\n",
        "\n",
        "# modificar un elemento\n",
        "frutas['manzana'] = 100\n",
        "print(frutas)\n",
        "\n",
        "# eliminar un elemento\n",
        "del frutas['cereza']\n",
        "print(frutas)\n",
        "\n",
        "# consultar valor dada una clave\n",
        "print('El valor de manana es: ' , frutas ['manzana'])\n"
      ],
      "metadata": {
        "colab": {
          "base_uri": "https://localhost:8080/"
        },
        "id": "Yz19wBuescwd",
        "outputId": "2da65638-ecf2-43f8-b1ef-2e09105fe986"
      },
      "execution_count": 2,
      "outputs": [
        {
          "output_type": "stream",
          "name": "stdout",
          "text": [
            "{'enero': 1, 'febrero': 2, 'marzo': 3, 'abril': 4, 'mayo': 5, 'junio': 6, 'julio': 7, 'agosto': 8, 'septiembre': 9, 'octubre': 10, 'noviembre': 11, 'diciembre': 12}\n",
            "{1: 'enero', 2: 'febrero', 3: 'marzo', 4: 'abril', 5: 'mayo', 6: 'junio', 7: 'julio', 8: 'agosto', 9: 'septiembre', 10: 'octubre', 11: 'noviembre', 12: 'diciembre'}\n",
            "{'manzana': 34, 'pera': 45, 'uva': 23}\n",
            "{'manzana': 34, 'pera': 45, 'uva': 23, 'cereza': 90}\n",
            "{'manzana': 100, 'pera': 45, 'uva': 23, 'cereza': 90}\n",
            "{'manzana': 100, 'pera': 45, 'uva': 23}\n",
            "El valor de manana es:  100\n"
          ]
        }
      ]
    }
  ]
}